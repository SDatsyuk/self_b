{
 "cells": [
  {
   "cell_type": "code",
   "execution_count": 1,
   "metadata": {},
   "outputs": [],
   "source": [
    "import tensorflow as tf\n",
    "from tensorflow.python.platform import gfile\n",
    "\n",
    "# write events to EVENTS folder for later analyis with TensorBoard\n",
    "def writeEvents(pb_file,LOGDIR):\n",
    "    with tf.Session() as sess:\n",
    "        with gfile.FastGFile(pb_file, 'rb') as f:\n",
    "            graph_def = tf.GraphDef()\n",
    "            graph_def.ParseFromString(f.read())\n",
    "            g_in = tf.import_graph_def(graph_def)\n",
    "    train_writer = tf.summary.FileWriter(LOGDIR)\n",
    "    train_writer.add_graph(sess.graph)\n",
    "\n",
    "def printTensors(pb_file,target_file):\n",
    "\n",
    "    # read pb into graph_def\n",
    "    with tf.gfile.GFile(pb_file, \"rb\") as f:\n",
    "        graph_def = tf.GraphDef()\n",
    "        graph_def.ParseFromString(f.read())\n",
    "\n",
    "    # import graph_def\n",
    "    with tf.Graph().as_default() as graph:\n",
    "        tf.import_graph_def(graph_def)\n",
    "\n",
    "    # print operations\n",
    "    trg = open(target_file,'w')\n",
    "    for op in graph.get_operations():\n",
    "        trg.write(op.name)\n",
    "        trg.write('\\n')\n",
    "    trg.close()\n",
    "\n",
    "model_filename = 'NNs/inceptionv4/inception_v4.pb'\n",
    "events_directory = 'events/'\n",
    "file_2_write = 'NNstruct.csv'\n",
    "writeEvents(model_filename, events_directory)\n",
    "printTensors(model_filename, file_2_write)"
   ]
  },
  {
   "cell_type": "code",
   "execution_count": null,
   "metadata": {},
   "outputs": [],
   "source": []
  }
 ],
 "metadata": {
  "kernelspec": {
   "display_name": "Python 3",
   "language": "python",
   "name": "python3"
  },
  "language_info": {
   "codemirror_mode": {
    "name": "ipython",
    "version": 3
   },
   "file_extension": ".py",
   "mimetype": "text/x-python",
   "name": "python",
   "nbconvert_exporter": "python",
   "pygments_lexer": "ipython3",
   "version": "3.6.5"
  }
 },
 "nbformat": 4,
 "nbformat_minor": 2
}
